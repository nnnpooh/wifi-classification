{
 "cells": [
  {
   "cell_type": "code",
   "execution_count": 1,
   "source": [
    "import numpy as np\r\n",
    "import matplotlib.pyplot as plt\r\n",
    "import pandas as pd\r\n",
    "from sklearn.model_selection import train_test_split\r\n",
    "from sklearn.preprocessing import LabelEncoder\r\n",
    "from sklearn.model_selection import cross_validate\r\n",
    "from sklearn.metrics import accuracy_score, precision_score, recall_score, f1_score, make_scorer\r\n",
    "# from sklearn.tree import DecisionTreeClassifier\r\n",
    "# from sklearn.ensemble import AdaBoostClassifier\r\n",
    "# from sklearn.ensemble import GradientBoostingClassifier\r\n",
    "from xgboost import XGBClassifier\r\n",
    "from lightgbm import LGBMClassifier\r\n",
    "from catboost import CatBoostClassifier\r\n"
   ],
   "outputs": [],
   "metadata": {}
  },
  {
   "cell_type": "markdown",
   "source": [
    "# ขอแก้ \r\n",
    "- `df1 = pd.read_csv(url1,index_col=0,parse_dates=[0])`\r\n",
    "\r\n",
    "เป็น\r\n",
    "\r\n",
    "- `df1 = pd.read_csv(url1,parse_dates=[0])`"
   ],
   "metadata": {}
  },
  {
   "cell_type": "code",
   "execution_count": 2,
   "source": [
    "url = 'https://raw.githubusercontent.com/Katba-Caroline/Predicting_Indoor_Location_Using_WiFi_Fingerprinting/master/Data/trainingData.csv'\r\n",
    "df_temp = pd.read_csv(url,parse_dates=[0])\r\n",
    "url1 = 'https://raw.githubusercontent.com/Katba-Caroline/Predicting_Indoor_Location_Using_WiFi_Fingerprinting/master/Data/validationData.csv'\r\n",
    "df1_temp = pd.read_csv(url1,parse_dates=[0])"
   ],
   "outputs": [],
   "metadata": {}
  },
  {
   "cell_type": "code",
   "execution_count": 3,
   "source": [
    "df_temp.head()"
   ],
   "outputs": [
    {
     "output_type": "execute_result",
     "data": {
      "text/html": [
       "<div>\n",
       "<style scoped>\n",
       "    .dataframe tbody tr th:only-of-type {\n",
       "        vertical-align: middle;\n",
       "    }\n",
       "\n",
       "    .dataframe tbody tr th {\n",
       "        vertical-align: top;\n",
       "    }\n",
       "\n",
       "    .dataframe thead th {\n",
       "        text-align: right;\n",
       "    }\n",
       "</style>\n",
       "<table border=\"1\" class=\"dataframe\">\n",
       "  <thead>\n",
       "    <tr style=\"text-align: right;\">\n",
       "      <th></th>\n",
       "      <th>WAP001</th>\n",
       "      <th>WAP002</th>\n",
       "      <th>WAP003</th>\n",
       "      <th>WAP004</th>\n",
       "      <th>WAP005</th>\n",
       "      <th>WAP006</th>\n",
       "      <th>WAP007</th>\n",
       "      <th>WAP008</th>\n",
       "      <th>WAP009</th>\n",
       "      <th>WAP010</th>\n",
       "      <th>...</th>\n",
       "      <th>WAP520</th>\n",
       "      <th>LONGITUDE</th>\n",
       "      <th>LATITUDE</th>\n",
       "      <th>FLOOR</th>\n",
       "      <th>BUILDINGID</th>\n",
       "      <th>SPACEID</th>\n",
       "      <th>RELATIVEPOSITION</th>\n",
       "      <th>USERID</th>\n",
       "      <th>PHONEID</th>\n",
       "      <th>TIMESTAMP</th>\n",
       "    </tr>\n",
       "  </thead>\n",
       "  <tbody>\n",
       "    <tr>\n",
       "      <th>0</th>\n",
       "      <td>100</td>\n",
       "      <td>100</td>\n",
       "      <td>100</td>\n",
       "      <td>100</td>\n",
       "      <td>100</td>\n",
       "      <td>100</td>\n",
       "      <td>100</td>\n",
       "      <td>100</td>\n",
       "      <td>100</td>\n",
       "      <td>100</td>\n",
       "      <td>...</td>\n",
       "      <td>100</td>\n",
       "      <td>-7541.2643</td>\n",
       "      <td>4.864921e+06</td>\n",
       "      <td>2</td>\n",
       "      <td>1</td>\n",
       "      <td>106</td>\n",
       "      <td>2</td>\n",
       "      <td>2</td>\n",
       "      <td>23</td>\n",
       "      <td>1371713733</td>\n",
       "    </tr>\n",
       "    <tr>\n",
       "      <th>1</th>\n",
       "      <td>100</td>\n",
       "      <td>100</td>\n",
       "      <td>100</td>\n",
       "      <td>100</td>\n",
       "      <td>100</td>\n",
       "      <td>100</td>\n",
       "      <td>100</td>\n",
       "      <td>100</td>\n",
       "      <td>100</td>\n",
       "      <td>100</td>\n",
       "      <td>...</td>\n",
       "      <td>100</td>\n",
       "      <td>-7536.6212</td>\n",
       "      <td>4.864934e+06</td>\n",
       "      <td>2</td>\n",
       "      <td>1</td>\n",
       "      <td>106</td>\n",
       "      <td>2</td>\n",
       "      <td>2</td>\n",
       "      <td>23</td>\n",
       "      <td>1371713691</td>\n",
       "    </tr>\n",
       "    <tr>\n",
       "      <th>2</th>\n",
       "      <td>100</td>\n",
       "      <td>100</td>\n",
       "      <td>100</td>\n",
       "      <td>100</td>\n",
       "      <td>100</td>\n",
       "      <td>100</td>\n",
       "      <td>100</td>\n",
       "      <td>-97</td>\n",
       "      <td>100</td>\n",
       "      <td>100</td>\n",
       "      <td>...</td>\n",
       "      <td>100</td>\n",
       "      <td>-7519.1524</td>\n",
       "      <td>4.864950e+06</td>\n",
       "      <td>2</td>\n",
       "      <td>1</td>\n",
       "      <td>103</td>\n",
       "      <td>2</td>\n",
       "      <td>2</td>\n",
       "      <td>23</td>\n",
       "      <td>1371714095</td>\n",
       "    </tr>\n",
       "    <tr>\n",
       "      <th>3</th>\n",
       "      <td>100</td>\n",
       "      <td>100</td>\n",
       "      <td>100</td>\n",
       "      <td>100</td>\n",
       "      <td>100</td>\n",
       "      <td>100</td>\n",
       "      <td>100</td>\n",
       "      <td>100</td>\n",
       "      <td>100</td>\n",
       "      <td>100</td>\n",
       "      <td>...</td>\n",
       "      <td>100</td>\n",
       "      <td>-7524.5704</td>\n",
       "      <td>4.864934e+06</td>\n",
       "      <td>2</td>\n",
       "      <td>1</td>\n",
       "      <td>102</td>\n",
       "      <td>2</td>\n",
       "      <td>2</td>\n",
       "      <td>23</td>\n",
       "      <td>1371713807</td>\n",
       "    </tr>\n",
       "    <tr>\n",
       "      <th>4</th>\n",
       "      <td>100</td>\n",
       "      <td>100</td>\n",
       "      <td>100</td>\n",
       "      <td>100</td>\n",
       "      <td>100</td>\n",
       "      <td>100</td>\n",
       "      <td>100</td>\n",
       "      <td>100</td>\n",
       "      <td>100</td>\n",
       "      <td>100</td>\n",
       "      <td>...</td>\n",
       "      <td>100</td>\n",
       "      <td>-7632.1436</td>\n",
       "      <td>4.864982e+06</td>\n",
       "      <td>0</td>\n",
       "      <td>0</td>\n",
       "      <td>122</td>\n",
       "      <td>2</td>\n",
       "      <td>11</td>\n",
       "      <td>13</td>\n",
       "      <td>1369909710</td>\n",
       "    </tr>\n",
       "  </tbody>\n",
       "</table>\n",
       "<p>5 rows × 529 columns</p>\n",
       "</div>"
      ],
      "text/plain": [
       "  WAP001  WAP002  WAP003  WAP004  WAP005  WAP006  WAP007  WAP008  WAP009  \\\n",
       "0    100     100     100     100     100     100     100     100     100   \n",
       "1    100     100     100     100     100     100     100     100     100   \n",
       "2    100     100     100     100     100     100     100     -97     100   \n",
       "3    100     100     100     100     100     100     100     100     100   \n",
       "4    100     100     100     100     100     100     100     100     100   \n",
       "\n",
       "   WAP010  ...  WAP520  LONGITUDE      LATITUDE  FLOOR  BUILDINGID  SPACEID  \\\n",
       "0     100  ...     100 -7541.2643  4.864921e+06      2           1      106   \n",
       "1     100  ...     100 -7536.6212  4.864934e+06      2           1      106   \n",
       "2     100  ...     100 -7519.1524  4.864950e+06      2           1      103   \n",
       "3     100  ...     100 -7524.5704  4.864934e+06      2           1      102   \n",
       "4     100  ...     100 -7632.1436  4.864982e+06      0           0      122   \n",
       "\n",
       "   RELATIVEPOSITION  USERID  PHONEID   TIMESTAMP  \n",
       "0                 2       2       23  1371713733  \n",
       "1                 2       2       23  1371713691  \n",
       "2                 2       2       23  1371714095  \n",
       "3                 2       2       23  1371713807  \n",
       "4                 2      11       13  1369909710  \n",
       "\n",
       "[5 rows x 529 columns]"
      ]
     },
     "metadata": {},
     "execution_count": 3
    }
   ],
   "metadata": {}
  },
  {
   "cell_type": "code",
   "execution_count": 4,
   "source": [
    "df_temp.dtypes"
   ],
   "outputs": [
    {
     "output_type": "execute_result",
     "data": {
      "text/plain": [
       "WAP001              object\n",
       "WAP002               int64\n",
       "WAP003               int64\n",
       "WAP004               int64\n",
       "WAP005               int64\n",
       "                     ...  \n",
       "SPACEID              int64\n",
       "RELATIVEPOSITION     int64\n",
       "USERID               int64\n",
       "PHONEID              int64\n",
       "TIMESTAMP            int64\n",
       "Length: 529, dtype: object"
      ]
     },
     "metadata": {},
     "execution_count": 4
    }
   ],
   "metadata": {}
  },
  {
   "cell_type": "code",
   "execution_count": 5,
   "source": [
    "# แก้ไข String เป็น Integer\r\n",
    "df_temp['WAP001'] = df_temp['WAP001'].astype(int)"
   ],
   "outputs": [],
   "metadata": {}
  },
  {
   "cell_type": "code",
   "execution_count": 6,
   "source": [
    "# Check for nan\r\n",
    "df_temp.isnull().sum().any()"
   ],
   "outputs": [
    {
     "output_type": "execute_result",
     "data": {
      "text/plain": [
       "False"
      ]
     },
     "metadata": {},
     "execution_count": 6
    }
   ],
   "metadata": {}
  },
  {
   "cell_type": "markdown",
   "source": [
    "# Choose only 500 rows ขึ้เกียจรอ"
   ],
   "metadata": {}
  },
  {
   "cell_type": "code",
   "execution_count": 7,
   "source": [
    "df = df_temp.sample(n=500)"
   ],
   "outputs": [],
   "metadata": {}
  },
  {
   "cell_type": "code",
   "execution_count": 8,
   "source": [
    "FL= np.char.array(df['FLOOR'].values)\r\n",
    "BU = np.char.array(df['BUILDINGID'].values)\r\n",
    "df['Merge'] = (FL + b'  ' + BU).astype(str)"
   ],
   "outputs": [],
   "metadata": {}
  },
  {
   "cell_type": "code",
   "execution_count": 9,
   "source": [
    "le = LabelEncoder()\r\n",
    "\r\n",
    "# Fitting\r\n",
    "le.fit(df['Merge'])\r\n",
    "print(le.classes_)\r\n",
    "\r\n",
    "# Transformation\r\n",
    "y_le = le.transform(df['Merge'])\r\n",
    "print(y_le)\r\n",
    "\r\n",
    "# Insert columns into origina data\r\n",
    "df['Merge_LE'] = y_le\r\n",
    "\r\n",
    "# Display\r\n",
    "df[['Merge', 'Merge_LE']]"
   ],
   "outputs": [
    {
     "output_type": "stream",
     "name": "stdout",
     "text": [
      "['0  0' '0  1' '0  2' '1  0' '1  1' '1  2' '2  0' '2  1' '2  2' '3  0'\n",
      " '3  1' '3  2' '4  2']\n",
      "[ 3  6  9  2 12  8  2  2  6  0 11  4  1  8  5  3  1  4  5  8  4  1 12  0\n",
      "  2  3  9 12  2  6  4  2  0 12  1  5 11 10 11  4  2  8  5  5 11 11  7  6\n",
      "  4  2  2 11  1  2  7  6  2  7  2  3 11  1  5  2 10 11  6 11 11 11  2  2\n",
      "  8 12 11  9  7  9  2  2 10  2  9  8  7 12  6  3 12  5 12  8  1  1  2  2\n",
      " 11 12  6  6  8  6  0 10  1 11  2 10  0  4  9  4  8  4  4  4 11  5  8  8\n",
      "  2  2 10  5  2  2 12  6  7  5  9  6 11 11  6  2  4  5  6 11  8  2 11  4\n",
      " 11 11  8 12 12  9  4  9  6  9 12 10  4  9  4  0 11 10  2  4 11  6  6  6\n",
      "  5  4  2 11 10  8  6  5  2  8  5  5 12  6  1 12 11  9  3 10  5 11  1  5\n",
      "  2  2  7  5 11  5  4  8  6  4  8 10  5 11 11  8  2  0  8 11  8  8 12  8\n",
      "  9 10  5  8  5 11  7 11  3  6 10 11  2  1  2  5  1  1 12  9  2  4 12  4\n",
      "  5 12  4  5  8  6  8 11  4  3  2  5  5  8  7 11  4  2 12  6  6  4  0  7\n",
      "  1  6  6  7  2  8  2  3  5  4  5 11  6 11  1  0 12  1  1 11  7 10  4  1\n",
      "  5  7  6  6  1  8  9 12 11  2  9  0  2  5  3  2  5  2  0  5  1  4  5  7\n",
      "  7 11 10  2  6  2  7 11  4  7 10  1 12 10  7  9  6  8  8  4  5 12  5  7\n",
      "  5  7 11  5  2  5  0  3  5 10 11  9 10  0 11  8  7  2  8  5 11  9 12 12\n",
      "  0  2  7  7  9  6  5 12  8  8 11 12  9  8 11  4 10  7  6 11  9 10  2  6\n",
      "  5  1  0  6  2  9  4  4  5  7  2 10 11 11  1  7  4  5  7  3  9 12  1  1\n",
      "  2  9 12  4  9 10  5  2  2  2  9  7  7  3  9  5  0  2 10 11  9 12 11  5\n",
      " 11  5  8  4 12  2  6  4  2  3  7 11  8  6  2  2  5  6 10  7  6  6  7  8\n",
      " 11 11  0  7  9  9 10 10  1 11  0  4 11 12  8  9  9  7 11  8  7 10 12 12\n",
      "  0  5  2  9 11  4 11 11  4  1  5  2  2  1 11 12 11  4  7  7]\n"
     ]
    },
    {
     "output_type": "execute_result",
     "data": {
      "text/html": [
       "<div>\n",
       "<style scoped>\n",
       "    .dataframe tbody tr th:only-of-type {\n",
       "        vertical-align: middle;\n",
       "    }\n",
       "\n",
       "    .dataframe tbody tr th {\n",
       "        vertical-align: top;\n",
       "    }\n",
       "\n",
       "    .dataframe thead th {\n",
       "        text-align: right;\n",
       "    }\n",
       "</style>\n",
       "<table border=\"1\" class=\"dataframe\">\n",
       "  <thead>\n",
       "    <tr style=\"text-align: right;\">\n",
       "      <th></th>\n",
       "      <th>Merge</th>\n",
       "      <th>Merge_LE</th>\n",
       "    </tr>\n",
       "  </thead>\n",
       "  <tbody>\n",
       "    <tr>\n",
       "      <th>17480</th>\n",
       "      <td>1  0</td>\n",
       "      <td>3</td>\n",
       "    </tr>\n",
       "    <tr>\n",
       "      <th>10854</th>\n",
       "      <td>2  0</td>\n",
       "      <td>6</td>\n",
       "    </tr>\n",
       "    <tr>\n",
       "      <th>10968</th>\n",
       "      <td>3  0</td>\n",
       "      <td>9</td>\n",
       "    </tr>\n",
       "    <tr>\n",
       "      <th>18941</th>\n",
       "      <td>0  2</td>\n",
       "      <td>2</td>\n",
       "    </tr>\n",
       "    <tr>\n",
       "      <th>1206</th>\n",
       "      <td>4  2</td>\n",
       "      <td>12</td>\n",
       "    </tr>\n",
       "    <tr>\n",
       "      <th>...</th>\n",
       "      <td>...</td>\n",
       "      <td>...</td>\n",
       "    </tr>\n",
       "    <tr>\n",
       "      <th>1180</th>\n",
       "      <td>4  2</td>\n",
       "      <td>12</td>\n",
       "    </tr>\n",
       "    <tr>\n",
       "      <th>2610</th>\n",
       "      <td>3  2</td>\n",
       "      <td>11</td>\n",
       "    </tr>\n",
       "    <tr>\n",
       "      <th>11556</th>\n",
       "      <td>1  1</td>\n",
       "      <td>4</td>\n",
       "    </tr>\n",
       "    <tr>\n",
       "      <th>147</th>\n",
       "      <td>2  1</td>\n",
       "      <td>7</td>\n",
       "    </tr>\n",
       "    <tr>\n",
       "      <th>5661</th>\n",
       "      <td>2  1</td>\n",
       "      <td>7</td>\n",
       "    </tr>\n",
       "  </tbody>\n",
       "</table>\n",
       "<p>500 rows × 2 columns</p>\n",
       "</div>"
      ],
      "text/plain": [
       "      Merge  Merge_LE\n",
       "17480  1  0         3\n",
       "10854  2  0         6\n",
       "10968  3  0         9\n",
       "18941  0  2         2\n",
       "1206   4  2        12\n",
       "...     ...       ...\n",
       "1180   4  2        12\n",
       "2610   3  2        11\n",
       "11556  1  1         4\n",
       "147    2  1         7\n",
       "5661   2  1         7\n",
       "\n",
       "[500 rows x 2 columns]"
      ]
     },
     "metadata": {},
     "execution_count": 9
    }
   ],
   "metadata": {}
  },
  {
   "cell_type": "code",
   "execution_count": 10,
   "source": [
    "noin = ['FLOOR','BUILDINGID','Merge']\r\n",
    "colsX = [item for item in df.columns if item not in noin] \r\n",
    "X = df[colsX].values\r\n",
    "y = df['Merge_LE'].values"
   ],
   "outputs": [],
   "metadata": {}
  },
  {
   "cell_type": "code",
   "execution_count": 11,
   "source": [
    "X.shape"
   ],
   "outputs": [
    {
     "output_type": "execute_result",
     "data": {
      "text/plain": [
       "(500, 528)"
      ]
     },
     "metadata": {},
     "execution_count": 11
    }
   ],
   "metadata": {}
  },
  {
   "cell_type": "code",
   "execution_count": 12,
   "source": [
    "y.shape"
   ],
   "outputs": [
    {
     "output_type": "execute_result",
     "data": {
      "text/plain": [
       "(500,)"
      ]
     },
     "metadata": {},
     "execution_count": 12
    }
   ],
   "metadata": {}
  },
  {
   "cell_type": "code",
   "execution_count": 13,
   "source": [
    "X_train, X_test, y_train, y_test = train_test_split(X, y, test_size=0.3, random_state=0, stratify=y)"
   ],
   "outputs": [],
   "metadata": {}
  },
  {
   "cell_type": "code",
   "execution_count": 14,
   "source": [
    "def calculate_scores(clf, name, data):\r\n",
    "        dfa = pd.DataFrame()\r\n",
    "\r\n",
    "        X_train, X_test, y_train, y_test = data\r\n",
    "        sc = cross_validate(estimator=clf,\r\n",
    "                                X=X_train,\r\n",
    "                                y=y_train,\r\n",
    "                                cv=5,\r\n",
    "                                scoring='accuracy',\r\n",
    "                                n_jobs=-1)\r\n",
    "         \r\n",
    "        ACC = sc['test_score']\r\n",
    "        \r\n",
    "        data = {'clf': f\"{name} (Train)\",\r\n",
    "                'ACC': f\"{ACC.mean():6.3f}\",\r\n",
    "                'Type': 'Train'}\r\n",
    "\r\n",
    "        dfa = dfa.append(data, ignore_index=True)\r\n",
    "        dfa = dfa[['clf', 'ACC', 'Type']]\r\n",
    "\r\n",
    "        # Testing scores\r\n",
    "        clf.fit(X_train, y_train)\r\n",
    "        y_pred = clf.predict(X_test)\r\n",
    "\r\n",
    "        ACC = accuracy_score(y_true=y_test, y_pred=y_pred)\r\n",
    "\r\n",
    "        data = {'clf': f\"{name} (Test)\", 'ACC': ACC,'Type': 'Test'}\r\n",
    "        dfa = dfa.append(data, ignore_index=True)\r\n",
    "        return dfa"
   ],
   "outputs": [],
   "metadata": {}
  },
  {
   "cell_type": "code",
   "execution_count": 15,
   "source": [
    "# XGBoost                    \r\n",
    "xgb = XGBClassifier(eval_metric=\"logloss\", use_label_encoder=False, n_estimators=100)\r\n",
    "\r\n",
    "# LightGBM\r\n",
    "lgb = LGBMClassifier(n_estimators=100)\r\n",
    "\r\n",
    "# CatBoost\r\n",
    "cat = CatBoostClassifier(verbose=0, n_estimators=100)"
   ],
   "outputs": [],
   "metadata": {}
  },
  {
   "cell_type": "code",
   "execution_count": 16,
   "source": [
    "import time\r\n",
    "\r\n",
    "clfs = {'XGBoost': xgb, 'LightGBM': lgb, 'CatBoost': cat }\r\n",
    "\r\n",
    "data =  (X_train, X_test, y_train, y_test)\r\n",
    "\r\n",
    "df_all = []\r\n",
    "for name, clf in clfs.items():\r\n",
    "    tic = time.perf_counter()\r\n",
    "    df_out = calculate_scores(clf, name, data)\r\n",
    "    toc = time.perf_counter()\r\n",
    "    ep_time = toc - tic\r\n",
    "    print(f'Calculating {name}, Elapse Time: {ep_time:0.4f} seconds')\r\n",
    "    df_all.append(df_out)"
   ],
   "outputs": [
    {
     "output_type": "stream",
     "name": "stdout",
     "text": [
      "Calculating XGBoost, Elapse Time: 3.4666 seconds\n",
      "Calculating LightGBM, Elapse Time: 2.4471 seconds\n",
      "Calculating CatBoost, Elapse Time: 11.0825 seconds\n"
     ]
    }
   ],
   "metadata": {}
  },
  {
   "cell_type": "code",
   "execution_count": 17,
   "source": [
    "df = pd.concat(df_all, axis=0 )\r\n",
    "df = df.set_index('clf')\r\n",
    "display(df)"
   ],
   "outputs": [
    {
     "output_type": "display_data",
     "data": {
      "text/html": [
       "<div>\n",
       "<style scoped>\n",
       "    .dataframe tbody tr th:only-of-type {\n",
       "        vertical-align: middle;\n",
       "    }\n",
       "\n",
       "    .dataframe tbody tr th {\n",
       "        vertical-align: top;\n",
       "    }\n",
       "\n",
       "    .dataframe thead th {\n",
       "        text-align: right;\n",
       "    }\n",
       "</style>\n",
       "<table border=\"1\" class=\"dataframe\">\n",
       "  <thead>\n",
       "    <tr style=\"text-align: right;\">\n",
       "      <th></th>\n",
       "      <th>ACC</th>\n",
       "      <th>Type</th>\n",
       "    </tr>\n",
       "    <tr>\n",
       "      <th>clf</th>\n",
       "      <th></th>\n",
       "      <th></th>\n",
       "    </tr>\n",
       "  </thead>\n",
       "  <tbody>\n",
       "    <tr>\n",
       "      <th>XGBoost (Train)</th>\n",
       "      <td>0.991</td>\n",
       "      <td>Train</td>\n",
       "    </tr>\n",
       "    <tr>\n",
       "      <th>XGBoost (Test)</th>\n",
       "      <td>1.0</td>\n",
       "      <td>Test</td>\n",
       "    </tr>\n",
       "    <tr>\n",
       "      <th>LightGBM (Train)</th>\n",
       "      <td>1.000</td>\n",
       "      <td>Train</td>\n",
       "    </tr>\n",
       "    <tr>\n",
       "      <th>LightGBM (Test)</th>\n",
       "      <td>1.0</td>\n",
       "      <td>Test</td>\n",
       "    </tr>\n",
       "    <tr>\n",
       "      <th>CatBoost (Train)</th>\n",
       "      <td>1.000</td>\n",
       "      <td>Train</td>\n",
       "    </tr>\n",
       "    <tr>\n",
       "      <th>CatBoost (Test)</th>\n",
       "      <td>1.0</td>\n",
       "      <td>Test</td>\n",
       "    </tr>\n",
       "  </tbody>\n",
       "</table>\n",
       "</div>"
      ],
      "text/plain": [
       "                     ACC   Type\n",
       "clf                            \n",
       "XGBoost (Train)    0.991  Train\n",
       "XGBoost (Test)       1.0   Test\n",
       "LightGBM (Train)   1.000  Train\n",
       "LightGBM (Test)      1.0   Test\n",
       "CatBoost (Train)   1.000  Train\n",
       "CatBoost (Test)      1.0   Test"
      ]
     },
     "metadata": {}
    }
   ],
   "metadata": {}
  }
 ],
 "metadata": {
  "kernelspec": {
   "name": "python3",
   "display_name": "Python 3.8.8 64-bit ('base': conda)"
  },
  "language_info": {
   "codemirror_mode": {
    "name": "ipython",
    "version": 3
   },
   "file_extension": ".py",
   "mimetype": "text/x-python",
   "name": "python",
   "nbconvert_exporter": "python",
   "pygments_lexer": "ipython3",
   "version": "3.8.8"
  },
  "interpreter": {
   "hash": "be725e0de8fb3f5fda9b0118bdf797fa9814e28e467c1cce77c5b9910d8a1786"
  }
 },
 "nbformat": 4,
 "nbformat_minor": 4
}